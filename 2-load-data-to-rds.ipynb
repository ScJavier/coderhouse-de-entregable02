{
 "cells": [
  {
   "cell_type": "code",
   "execution_count": 1,
   "id": "faccdad2-1606-4ed1-a128-c9aac1d5576b",
   "metadata": {},
   "outputs": [
    {
     "name": "stdout",
     "output_type": "stream",
     "text": [
      "Data insertion completed.\n"
     ]
    }
   ],
   "source": [
    "import json\n",
    "from psycopg2 import connect\n",
    "import pandas as pd\n",
    "from datetime import datetime\n",
    "\n",
    "from utils.extraction import get_currencies_from\n",
    "from utils.validation import (\n",
    "    validate_shape,\n",
    "    validate_columns,\n",
    "    validate_no_duplicates,\n",
    "    validate_no_null,\n",
    "    validate_date_column,\n",
    "    validate_currency_column,\n",
    "    validate_rate_column\n",
    ")\n",
    "\n",
    "from utils.load_to_db import load_df_to_db\n",
    "\n",
    "# Download data\n",
    "currencies = get_currencies_from('MXN', '2021-01-01')\n",
    "currencies_df = pd.DataFrame(currencies)\n",
    "\n",
    "# Get monthly mean exchange rate by currency\n",
    "currencies_df['date'] = currencies_df['date'].apply(lambda x: datetime.strptime(x, '%Y-%m-%d'))\n",
    "currencies_df = currencies_df.set_index('date').groupby('currency').resample('MS').mean().reset_index() \n",
    "currencies_df['date'] = currencies_df['date'].apply(lambda x: x.strftime('%Y-%m-%d'))\n",
    "\n",
    "# Rename columns\n",
    "currencies_df.columns = ['currency', 'rate_date', 'rate']\n",
    "\n",
    "# Data validation\n",
    "validate_shape(currencies_df)\n",
    "validate_columns(currencies_df, ['currency', 'rate_date', 'rate'])\n",
    "validate_no_duplicates(currencies_df, ['currency', 'rate_date'])\n",
    "validate_no_null(currencies_df)\n",
    "validate_date_column(currencies_df, 'rate_date')\n",
    "validate_currency_column(currencies_df, 'currency')\n",
    "validate_rate_column(currencies_df, 'rate')\n",
    "\n",
    "## Load data to DB\n",
    "# Load credentials\n",
    "with open('creds.json', 'r') as f:\n",
    "    creds = json.load(f)\n",
    "\n",
    "# Create conection\n",
    "conn = connect(**creds)\n",
    "\n",
    "# Load data to DB\n",
    "load_df_to_db(currencies_df, 'javier_santibanez_coderhouse.exchange_rates_mxn', conn)\n",
    "\n",
    "# ## Validate data in DB\n",
    "# # Crear un cursor\n",
    "# cursor = conn.cursor()\n",
    "\n",
    "# try:\n",
    "#     cursor.execute(\"SELECT * FROM javier_santibanez_coderhouse.exchange_rates_mxn\")\n",
    "#     colnames = [desc[0] for desc in cursor.description]\n",
    "#     res = pd.DataFrame(cursor.fetchall(), columns=colnames)\n",
    "# except psycopg2.Error as e:\n",
    "#     print(\"Error al ejecutar el query:\", e)\n",
    "# finally:\n",
    "#     cursor.close()\n",
    "\n",
    "# display(res.head(3))\n",
    "# display(res.tail(3))\n",
    "# print(res.shape)"
   ]
  }
 ],
 "metadata": {
  "kernelspec": {
   "display_name": "Python 3 (ipykernel)",
   "language": "python",
   "name": "python3"
  },
  "language_info": {
   "codemirror_mode": {
    "name": "ipython",
    "version": 3
   },
   "file_extension": ".py",
   "mimetype": "text/x-python",
   "name": "python",
   "nbconvert_exporter": "python",
   "pygments_lexer": "ipython3",
   "version": "3.9.18"
  }
 },
 "nbformat": 4,
 "nbformat_minor": 5
}
