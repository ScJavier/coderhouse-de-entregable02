{
 "cells": [
  {
   "cell_type": "code",
   "execution_count": 1,
   "id": "13636714-df8e-40b1-97a7-da8848626275",
   "metadata": {},
   "outputs": [
    {
     "name": "stdout",
     "output_type": "stream",
     "text": [
      "Table 'exchange_rates_mxn' created successfully.\n"
     ]
    }
   ],
   "source": [
    "import json\n",
    "import psycopg2\n",
    "from psycopg2 import sql\n",
    "\n",
    "try:\n",
    "    # Load database connection configuration from 'creds.json' file\n",
    "    with open('creds.json', 'r') as file:\n",
    "        config = json.load(file)\n",
    "\n",
    "    # Construct a connection string using database configuration\n",
    "    conn_str = (\"dbname={database} user={user} \" +\n",
    "                \"password={password} host={host} port={port}\") \\\n",
    "                .format(database=config['database'],\n",
    "                        user=config['user'],\n",
    "                        password=config['password'],\n",
    "                        host=config['host'],\n",
    "                        port=config['port'])\n",
    "    \n",
    "    # Connect to the PostgreSQL database using the connection string\n",
    "    conn = psycopg2.connect(conn_str)\n",
    "\n",
    "    # Create a cursor object to interact with the database\n",
    "    cursor = conn.cursor()\n",
    "    \n",
    "    # Define the SQL query to create the table if it does not exist\n",
    "    create_table_query = sql.SQL(\"\"\"\n",
    "        CREATE TABLE IF NOT EXISTS javier_santibanez_coderhouse.exchange_rates_mxn (\n",
    "            id INTEGER IDENTITY(1,1) PRIMARY KEY,\n",
    "            currency VARCHAR(10),\n",
    "            rate_date DATE,\n",
    "            rate DECIMAL(15, 5),\n",
    "            update_date TIMESTAMP DEFAULT CONVERT_TIMEZONE('America/Mexico_City', GETDATE())\n",
    "        )\n",
    "    \"\"\")\n",
    "\n",
    "    # Execute the create table query\n",
    "    cursor.execute(create_table_query)\n",
    "\n",
    "    # Commit the changes to the database\n",
    "    conn.commit()\n",
    "\n",
    "    # Print success message\n",
    "    print(f\"Table 'exchange_rates_mxn' created successfully.\")\n",
    "\n",
    "except psycopg2.Error as e:\n",
    "    # Print error message if an exception occurs\n",
    "    print(f\"Error: {e}\")\n",
    "\n",
    "finally:\n",
    "    # Close the cursor and connection in the 'finally' block to ensure it's done regardless of success or failure\n",
    "    if cursor:\n",
    "        cursor.close()\n",
    "    if conn:\n",
    "        conn.close()"
   ]
  }
 ],
 "metadata": {
  "kernelspec": {
   "display_name": "Python 3 (ipykernel)",
   "language": "python",
   "name": "python3"
  },
  "language_info": {
   "codemirror_mode": {
    "name": "ipython",
    "version": 3
   },
   "file_extension": ".py",
   "mimetype": "text/x-python",
   "name": "python",
   "nbconvert_exporter": "python",
   "pygments_lexer": "ipython3",
   "version": "3.9.18"
  }
 },
 "nbformat": 4,
 "nbformat_minor": 5
}
